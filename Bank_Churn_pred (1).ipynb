{
  "cells": [
    {
      "cell_type": "code",
      "execution_count": 777,
      "metadata": {
        "id": "E4KCYVjUj-ra"
      },
      "outputs": [],
      "source": [
        "# Importing required modules\n",
        "import numpy as np\n",
        "import pandas as pd\n",
        "import tensorflow as tf\n",
        "import matplotlib.ticker as mtick\n",
        "import matplotlib.pyplot as plt\n",
        "from sklearn.preprocessing import LabelEncoder\n",
        "from sklearn.compose import ColumnTransformer\n",
        "from sklearn.preprocessing import OneHotEncoder\n",
        "from sklearn.model_selection import train_test_split\n",
        "from sklearn.preprocessing import StandardScaler\n",
        "from sklearn.metrics import classification_report,confusion_matrix,accuracy_score,precision_score,recall_score\n",
        "import collections\n",
        "import pickle"
      ]
    },
    {
      "cell_type": "code",
      "execution_count": 778,
      "metadata": {
        "colab": {
          "base_uri": "https://localhost:8080/"
        },
        "id": "0gcUQ45WkMAR",
        "outputId": "70d90c29-ec25-4d0b-d785-9a6dba3c1a61"
      },
      "outputs": [
        {
          "name": "stdout",
          "output_type": "stream",
          "text": [
            "[619 'France' 'Female' 42 2 0.0 1 1 1 101348.88]\n",
            "1\n"
          ]
        }
      ],
      "source": [
        "# Reading in dataset/Bank-Churn-data.csv\n",
        "dataset= pd.read_csv('data\\Bank-Churn-data.csv')\n",
        "\n",
        "#seperating input and output values\n",
        "x=dataset.iloc[:, 3:-1].values\n",
        "y=dataset.iloc[:, -1].values\n",
        "print(x[0])\n",
        "print(y[0])"
      ]
    },
    {
      "cell_type": "code",
      "execution_count": 779,
      "metadata": {
        "colab": {
          "base_uri": "https://localhost:8080/"
        },
        "id": "i3aXQB6InBIP",
        "outputId": "41f941d4-02ef-4cdb-e101-8bd2bb5755e8"
      },
      "outputs": [
        {
          "name": "stdout",
          "output_type": "stream",
          "text": [
            "[619 'France' 'Female' 42 2 0.0 1 1 1 101348.88]\n",
            "[1.0 0.0 0.0 619 0 42 2 0.0 1 1 1 101348.88]\n"
          ]
        }
      ],
      "source": [
        "print(x[0])\n",
        "#Changing input string parameters to integer\n",
        "LE=LabelEncoder()\n",
        "x[:, 2]=LE.fit_transform(x[:, 2])\n",
        "ct = ColumnTransformer(transformers=[('encoder', OneHotEncoder(), [1])], remainder='passthrough')\n",
        "x=np.array(ct.fit_transform(x))\n",
        "print(x[0])"
      ]
    },
    {
      "cell_type": "markdown",
      "metadata": {},
      "source": [
        "### Baseline model"
      ]
    },
    {
      "cell_type": "code",
      "execution_count": 780,
      "metadata": {
        "id": "KYtda29eP9Qp"
      },
      "outputs": [],
      "source": [
        "#Seperating the Train, Test and Validation data\n",
        "X_train1, X_test1, y_train1, y_test1 = train_test_split(x, y, test_size = 0.3, random_state = 0)\n",
        "X_test1, X_validation1, y_test1, y_validation1 = train_test_split(X_test1, y_test1, test_size = 0.33, random_state = 0)"
      ]
    },
    {
      "cell_type": "code",
      "execution_count": 781,
      "metadata": {},
      "outputs": [],
      "source": [
        "#Standardized Scaling to fit the data in training the model\n",
        "sc = StandardScaler()\n",
        "X_train1 = sc.fit_transform(X_train1)\n",
        "X_test1 = sc.transform(X_test1)\n",
        "X_validation1=sc.transform(X_validation1)"
      ]
    },
    {
      "cell_type": "markdown",
      "metadata": {},
      "source": [
        "The Baseline model is a Logistic Regression Model"
      ]
    },
    {
      "cell_type": "code",
      "execution_count": 782,
      "metadata": {},
      "outputs": [
        {
          "name": "stdout",
          "output_type": "stream",
          "text": [
            "[0.8099502487562189]\n"
          ]
        }
      ],
      "source": [
        "#Implementing Logistic Regression\n",
        "from sklearn.linear_model import LogisticRegression\n",
        "model = LogisticRegression()\n",
        "result = model.fit(X_train1, y_train1)\n",
        "from sklearn import metrics\n",
        "prediction_test = model.predict(X_test1)\n",
        "# Print the prediction accuracy\n",
        "results=[]\n",
        "results.append(metrics.accuracy_score(y_test1, prediction_test))\n",
        "print(results)"
      ]
    },
    {
      "cell_type": "code",
      "execution_count": 783,
      "metadata": {},
      "outputs": [],
      "source": [
        "#Saving the Trained Baseline model\n",
        "filename = 'data/baseline_model.h5'\n",
        "pickle.dump(model, open(filename, 'wb'))"
      ]
    },
    {
      "cell_type": "code",
      "execution_count": 784,
      "metadata": {},
      "outputs": [
        {
          "name": "stdout",
          "output_type": "stream",
          "text": [
            "              precision    recall  f1-score   support\n",
            "\n",
            "           0       0.83      0.96      0.89      1591\n",
            "           1       0.62      0.23      0.34       419\n",
            "\n",
            "    accuracy                           0.81      2010\n",
            "   macro avg       0.72      0.60      0.61      2010\n",
            "weighted avg       0.78      0.81      0.77      2010\n",
            "\n"
          ]
        }
      ],
      "source": [
        "#Showing the Classification Report of Baseline model\n",
        "y_pred1=model.predict(X_test1)\n",
        "y_pred1=(y_pred1>0.5)\n",
        "print(classification_report(y_test1, y_pred1))"
      ]
    },
    {
      "cell_type": "markdown",
      "metadata": {},
      "source": [
        "## Data Exploration"
      ]
    },
    {
      "cell_type": "code",
      "execution_count": 785,
      "metadata": {},
      "outputs": [
        {
          "data": {
            "text/html": [
              "<div>\n",
              "<style scoped>\n",
              "    .dataframe tbody tr th:only-of-type {\n",
              "        vertical-align: middle;\n",
              "    }\n",
              "\n",
              "    .dataframe tbody tr th {\n",
              "        vertical-align: top;\n",
              "    }\n",
              "\n",
              "    .dataframe thead th {\n",
              "        text-align: right;\n",
              "    }\n",
              "</style>\n",
              "<table border=\"1\" class=\"dataframe\">\n",
              "  <thead>\n",
              "    <tr style=\"text-align: right;\">\n",
              "      <th></th>\n",
              "      <th>CustomerId</th>\n",
              "      <th>CreditScore</th>\n",
              "      <th>Age</th>\n",
              "      <th>Tenure</th>\n",
              "      <th>Balance</th>\n",
              "      <th>NumOfProducts</th>\n",
              "      <th>HasCrCard</th>\n",
              "      <th>IsActiveMember</th>\n",
              "      <th>EstimatedSalary</th>\n",
              "      <th>Exited</th>\n",
              "      <th>...</th>\n",
              "      <th>Surname_Zubarev</th>\n",
              "      <th>Surname_Zubareva</th>\n",
              "      <th>Surname_Zuev</th>\n",
              "      <th>Surname_Zuyev</th>\n",
              "      <th>Surname_Zuyeva</th>\n",
              "      <th>Geography_France</th>\n",
              "      <th>Geography_Germany</th>\n",
              "      <th>Geography_Spain</th>\n",
              "      <th>Gender_Female</th>\n",
              "      <th>Gender_Male</th>\n",
              "    </tr>\n",
              "  </thead>\n",
              "  <tbody>\n",
              "    <tr>\n",
              "      <th>0</th>\n",
              "      <td>15634602</td>\n",
              "      <td>619</td>\n",
              "      <td>42</td>\n",
              "      <td>2</td>\n",
              "      <td>0.00</td>\n",
              "      <td>1</td>\n",
              "      <td>1</td>\n",
              "      <td>1</td>\n",
              "      <td>101348.88</td>\n",
              "      <td>1</td>\n",
              "      <td>...</td>\n",
              "      <td>0</td>\n",
              "      <td>0</td>\n",
              "      <td>0</td>\n",
              "      <td>0</td>\n",
              "      <td>0</td>\n",
              "      <td>1</td>\n",
              "      <td>0</td>\n",
              "      <td>0</td>\n",
              "      <td>1</td>\n",
              "      <td>0</td>\n",
              "    </tr>\n",
              "    <tr>\n",
              "      <th>1</th>\n",
              "      <td>15647311</td>\n",
              "      <td>608</td>\n",
              "      <td>41</td>\n",
              "      <td>1</td>\n",
              "      <td>83807.86</td>\n",
              "      <td>1</td>\n",
              "      <td>0</td>\n",
              "      <td>1</td>\n",
              "      <td>112542.58</td>\n",
              "      <td>0</td>\n",
              "      <td>...</td>\n",
              "      <td>0</td>\n",
              "      <td>0</td>\n",
              "      <td>0</td>\n",
              "      <td>0</td>\n",
              "      <td>0</td>\n",
              "      <td>0</td>\n",
              "      <td>0</td>\n",
              "      <td>1</td>\n",
              "      <td>1</td>\n",
              "      <td>0</td>\n",
              "    </tr>\n",
              "    <tr>\n",
              "      <th>2</th>\n",
              "      <td>15619304</td>\n",
              "      <td>502</td>\n",
              "      <td>42</td>\n",
              "      <td>8</td>\n",
              "      <td>159660.80</td>\n",
              "      <td>3</td>\n",
              "      <td>1</td>\n",
              "      <td>0</td>\n",
              "      <td>113931.57</td>\n",
              "      <td>1</td>\n",
              "      <td>...</td>\n",
              "      <td>0</td>\n",
              "      <td>0</td>\n",
              "      <td>0</td>\n",
              "      <td>0</td>\n",
              "      <td>0</td>\n",
              "      <td>1</td>\n",
              "      <td>0</td>\n",
              "      <td>0</td>\n",
              "      <td>1</td>\n",
              "      <td>0</td>\n",
              "    </tr>\n",
              "    <tr>\n",
              "      <th>3</th>\n",
              "      <td>15701354</td>\n",
              "      <td>699</td>\n",
              "      <td>39</td>\n",
              "      <td>1</td>\n",
              "      <td>0.00</td>\n",
              "      <td>2</td>\n",
              "      <td>0</td>\n",
              "      <td>0</td>\n",
              "      <td>93826.63</td>\n",
              "      <td>0</td>\n",
              "      <td>...</td>\n",
              "      <td>0</td>\n",
              "      <td>0</td>\n",
              "      <td>0</td>\n",
              "      <td>0</td>\n",
              "      <td>0</td>\n",
              "      <td>1</td>\n",
              "      <td>0</td>\n",
              "      <td>0</td>\n",
              "      <td>1</td>\n",
              "      <td>0</td>\n",
              "    </tr>\n",
              "    <tr>\n",
              "      <th>4</th>\n",
              "      <td>15737888</td>\n",
              "      <td>850</td>\n",
              "      <td>43</td>\n",
              "      <td>2</td>\n",
              "      <td>125510.82</td>\n",
              "      <td>1</td>\n",
              "      <td>1</td>\n",
              "      <td>1</td>\n",
              "      <td>79084.10</td>\n",
              "      <td>0</td>\n",
              "      <td>...</td>\n",
              "      <td>0</td>\n",
              "      <td>0</td>\n",
              "      <td>0</td>\n",
              "      <td>0</td>\n",
              "      <td>0</td>\n",
              "      <td>0</td>\n",
              "      <td>0</td>\n",
              "      <td>1</td>\n",
              "      <td>1</td>\n",
              "      <td>0</td>\n",
              "    </tr>\n",
              "  </tbody>\n",
              "</table>\n",
              "<p>5 rows × 2947 columns</p>\n",
              "</div>"
            ],
            "text/plain": [
              "   CustomerId  CreditScore  Age  Tenure    Balance  NumOfProducts  HasCrCard  \\\n",
              "0    15634602          619   42       2       0.00              1          1   \n",
              "1    15647311          608   41       1   83807.86              1          0   \n",
              "2    15619304          502   42       8  159660.80              3          1   \n",
              "3    15701354          699   39       1       0.00              2          0   \n",
              "4    15737888          850   43       2  125510.82              1          1   \n",
              "\n",
              "   IsActiveMember  EstimatedSalary  Exited  ...  Surname_Zubarev  \\\n",
              "0               1        101348.88       1  ...                0   \n",
              "1               1        112542.58       0  ...                0   \n",
              "2               0        113931.57       1  ...                0   \n",
              "3               0         93826.63       0  ...                0   \n",
              "4               1         79084.10       0  ...                0   \n",
              "\n",
              "   Surname_Zubareva  Surname_Zuev  Surname_Zuyev  Surname_Zuyeva  \\\n",
              "0                 0             0              0               0   \n",
              "1                 0             0              0               0   \n",
              "2                 0             0              0               0   \n",
              "3                 0             0              0               0   \n",
              "4                 0             0              0               0   \n",
              "\n",
              "   Geography_France  Geography_Germany  Geography_Spain  Gender_Female  \\\n",
              "0                 1                  0                0              1   \n",
              "1                 0                  0                1              1   \n",
              "2                 1                  0                0              1   \n",
              "3                 1                  0                0              1   \n",
              "4                 0                  0                1              1   \n",
              "\n",
              "   Gender_Male  \n",
              "0            0  \n",
              "1            0  \n",
              "2            0  \n",
              "3            0  \n",
              "4            0  \n",
              "\n",
              "[5 rows x 2947 columns]"
            ]
          },
          "execution_count": 785,
          "metadata": {},
          "output_type": "execute_result"
        }
      ],
      "source": [
        "#Remove RowNumber from the data set\n",
        "df2 = dataset.iloc[:,1:]\n",
        "#Converting all the categorical variables into dummy variables\n",
        "df_dummies = pd.get_dummies(df2)\n",
        "df_dummies.head()"
      ]
    },
    {
      "cell_type": "markdown",
      "metadata": {},
      "source": [
        " ### Senior Citizens, Salarycategory : \n",
        " Adding a new feature to the dataset.\n",
        " We are considering people above 60 years as Senior Citizens and dividing the Salary type to 3 different categories < 40K , 40K < X < 80K and X > 80K"
      ]
    },
    {
      "cell_type": "code",
      "execution_count": 786,
      "metadata": {},
      "outputs": [
        {
          "name": "stdout",
          "output_type": "stream",
          "text": [
            "['CustomerId', 'Surname', 'CreditScore', 'Geography', 'Gender', 'Age', 'Tenure', 'Balance', 'NumOfProducts', 'HasCrCard', 'IsActiveMember', 'EstimatedSalary', 'Exited', 'SeniorCitizen', 'Salarycategory']\n"
          ]
        },
        {
          "data": {
            "text/html": [
              "<div>\n",
              "<style scoped>\n",
              "    .dataframe tbody tr th:only-of-type {\n",
              "        vertical-align: middle;\n",
              "    }\n",
              "\n",
              "    .dataframe tbody tr th {\n",
              "        vertical-align: top;\n",
              "    }\n",
              "\n",
              "    .dataframe thead th {\n",
              "        text-align: right;\n",
              "    }\n",
              "</style>\n",
              "<table border=\"1\" class=\"dataframe\">\n",
              "  <thead>\n",
              "    <tr style=\"text-align: right;\">\n",
              "      <th></th>\n",
              "      <th>CustomerId</th>\n",
              "      <th>Surname</th>\n",
              "      <th>CreditScore</th>\n",
              "      <th>Geography</th>\n",
              "      <th>Gender</th>\n",
              "      <th>Age</th>\n",
              "      <th>Tenure</th>\n",
              "      <th>Balance</th>\n",
              "      <th>NumOfProducts</th>\n",
              "      <th>HasCrCard</th>\n",
              "      <th>IsActiveMember</th>\n",
              "      <th>EstimatedSalary</th>\n",
              "      <th>Salarycategory</th>\n",
              "      <th>SeniorCitizen</th>\n",
              "      <th>Exited</th>\n",
              "    </tr>\n",
              "  </thead>\n",
              "  <tbody>\n",
              "    <tr>\n",
              "      <th>0</th>\n",
              "      <td>15634602</td>\n",
              "      <td>Hargrave</td>\n",
              "      <td>619</td>\n",
              "      <td>France</td>\n",
              "      <td>Female</td>\n",
              "      <td>42</td>\n",
              "      <td>2</td>\n",
              "      <td>0.00</td>\n",
              "      <td>1</td>\n",
              "      <td>1</td>\n",
              "      <td>1</td>\n",
              "      <td>101348.88</td>\n",
              "      <td>2</td>\n",
              "      <td>0</td>\n",
              "      <td>1</td>\n",
              "    </tr>\n",
              "    <tr>\n",
              "      <th>1</th>\n",
              "      <td>15647311</td>\n",
              "      <td>Hill</td>\n",
              "      <td>608</td>\n",
              "      <td>Spain</td>\n",
              "      <td>Female</td>\n",
              "      <td>41</td>\n",
              "      <td>1</td>\n",
              "      <td>83807.86</td>\n",
              "      <td>1</td>\n",
              "      <td>0</td>\n",
              "      <td>1</td>\n",
              "      <td>112542.58</td>\n",
              "      <td>2</td>\n",
              "      <td>0</td>\n",
              "      <td>0</td>\n",
              "    </tr>\n",
              "    <tr>\n",
              "      <th>2</th>\n",
              "      <td>15619304</td>\n",
              "      <td>Onio</td>\n",
              "      <td>502</td>\n",
              "      <td>France</td>\n",
              "      <td>Female</td>\n",
              "      <td>42</td>\n",
              "      <td>8</td>\n",
              "      <td>159660.80</td>\n",
              "      <td>3</td>\n",
              "      <td>1</td>\n",
              "      <td>0</td>\n",
              "      <td>113931.57</td>\n",
              "      <td>2</td>\n",
              "      <td>0</td>\n",
              "      <td>1</td>\n",
              "    </tr>\n",
              "    <tr>\n",
              "      <th>3</th>\n",
              "      <td>15701354</td>\n",
              "      <td>Boni</td>\n",
              "      <td>699</td>\n",
              "      <td>France</td>\n",
              "      <td>Female</td>\n",
              "      <td>39</td>\n",
              "      <td>1</td>\n",
              "      <td>0.00</td>\n",
              "      <td>2</td>\n",
              "      <td>0</td>\n",
              "      <td>0</td>\n",
              "      <td>93826.63</td>\n",
              "      <td>2</td>\n",
              "      <td>0</td>\n",
              "      <td>0</td>\n",
              "    </tr>\n",
              "    <tr>\n",
              "      <th>4</th>\n",
              "      <td>15737888</td>\n",
              "      <td>Mitchell</td>\n",
              "      <td>850</td>\n",
              "      <td>Spain</td>\n",
              "      <td>Female</td>\n",
              "      <td>43</td>\n",
              "      <td>2</td>\n",
              "      <td>125510.82</td>\n",
              "      <td>1</td>\n",
              "      <td>1</td>\n",
              "      <td>1</td>\n",
              "      <td>79084.10</td>\n",
              "      <td>1</td>\n",
              "      <td>0</td>\n",
              "      <td>0</td>\n",
              "    </tr>\n",
              "  </tbody>\n",
              "</table>\n",
              "</div>"
            ],
            "text/plain": [
              "   CustomerId   Surname  CreditScore Geography  Gender  Age  Tenure  \\\n",
              "0    15634602  Hargrave          619    France  Female   42       2   \n",
              "1    15647311      Hill          608     Spain  Female   41       1   \n",
              "2    15619304      Onio          502    France  Female   42       8   \n",
              "3    15701354      Boni          699    France  Female   39       1   \n",
              "4    15737888  Mitchell          850     Spain  Female   43       2   \n",
              "\n",
              "     Balance  NumOfProducts  HasCrCard  IsActiveMember  EstimatedSalary  \\\n",
              "0       0.00              1          1               1        101348.88   \n",
              "1   83807.86              1          0               1        112542.58   \n",
              "2  159660.80              3          1               0        113931.57   \n",
              "3       0.00              2          0               0         93826.63   \n",
              "4  125510.82              1          1               1         79084.10   \n",
              "\n",
              "   Salarycategory  SeniorCitizen  Exited  \n",
              "0               2              0       1  \n",
              "1               2              0       0  \n",
              "2               2              0       1  \n",
              "3               2              0       0  \n",
              "4               1              0       0  "
            ]
          },
          "execution_count": 786,
          "metadata": {},
          "output_type": "execute_result"
        }
      ],
      "source": [
        "#Adding two new columns to increase the model Accuracy\n",
        "df2['SeniorCitizen'] =  [1 if x > 60 else 0 for x in df2['Age']]\n",
        "df2['Salarycategory'] =  [0 if x < 40000 else (1 if x<80000 else 2) for x in df2['EstimatedSalary']]\n",
        "column_names = list(df2.columns.values)\n",
        "print(column_names)\n",
        "column_names[-3],column_names[-2], column_names[-1] = column_names[-1], column_names[-2],column_names[-3]\n",
        "df2=df2.reindex(columns=column_names)\n",
        "df2.head()"
      ]
    },
    {
      "cell_type": "code",
      "execution_count": 787,
      "metadata": {},
      "outputs": [
        {
          "data": {
            "text/plain": [
              "<matplotlib.axes._subplots.AxesSubplot at 0x1dc37e3e348>"
            ]
          },
          "execution_count": 787,
          "metadata": {},
          "output_type": "execute_result"
        },
        {
          "data": {
            "image/png": "[encoded data removed]",
            "text/plain": [
              "<Figure size 504x360 with 1 Axes>"
            ]
          },
          "metadata": {
            "needs_background": "light"
          },
          "output_type": "display_data"
        }
      ],
      "source": [
        "# Correlation of \"Churn\" with other variables\n",
        "plt.figure(figsize=(7,5))\n",
        "df2.corr()['Exited'].sort_values(ascending = False).plot(kind='bar')"
      ]
    },
    {
      "cell_type": "markdown",
      "metadata": {},
      "source": [
        "Age and Balance seem to be positively correlated with churn.\n",
        "\n",
        "Interestingly, rest all the features seem to be negatively related to churn."
      ]
    },
    {
      "cell_type": "code",
      "execution_count": 788,
      "metadata": {},
      "outputs": [
        {
          "name": "stdout",
          "output_type": "stream",
          "text": [
            "[619 'France' 'Female' 42 2 0.0 1 1 1 101348.88 2 0]\n",
            "[1.0 0.0 0.0 619 0 42 2 0.0 1 1 1 101348.88 2 0]\n"
          ]
        }
      ],
      "source": [
        "#seperating input and output values after adding new parameters\n",
        "x=df2.iloc[:, 2:-1].values\n",
        "y=df2.iloc[:, -1].values\n",
        "print(x[0])\n",
        "\n",
        "#Changing input string parameters to integer\n",
        "LE=LabelEncoder()\n",
        "x[:, 2]=LE.fit_transform(x[:, 2])\n",
        "ct = ColumnTransformer(transformers=[('encoder', OneHotEncoder(), [1])], remainder='passthrough')\n",
        "x=np.array(ct.fit_transform(x))\n",
        "df2.isnull().sum()\n",
        "#Converting all the categorical variables into dummy variables\n",
        "df_dummies = pd.get_dummies(df2)\n",
        "df_dummies.head()\n",
        "print(x[0])"
      ]
    },
    {
      "cell_type": "code",
      "execution_count": 789,
      "metadata": {},
      "outputs": [
        {
          "data": {
            "text/plain": [
              "Text(0.5, 1.0, '% of Senior Citizens')"
            ]
          },
          "execution_count": 789,
          "metadata": {},
          "output_type": "execute_result"
        },
        {
          "data": {
            "image/png": "[encoded data removed]",
            "text/plain": [
              "<Figure size 360x360 with 1 Axes>"
            ]
          },
          "metadata": {},
          "output_type": "display_data"
        }
      ],
      "source": [
        "# Plotting the % Senior Citizen in dataset\n",
        "ax = (df2['SeniorCitizen'].value_counts()*100.0 /len(df2))\\\n",
        ".plot.pie(autopct='%.1f%%', labels = ['No', 'Yes'],figsize =(5,5), fontsize = 12 )                                                                           \n",
        "ax.yaxis.set_major_formatter(mtick.PercentFormatter())\n",
        "ax.set_ylabel('Senior Citizens',fontsize = 12)\n",
        "ax.set_title('% of Senior Citizens', fontsize = 12)"
      ]
    },
    {
      "cell_type": "code",
      "execution_count": 790,
      "metadata": {},
      "outputs": [
        {
          "data": {
            "image/png": "[encoded data removed]",
            "text/plain": [
              "<Figure size 432x288 with 1 Axes>"
            ]
          },
          "metadata": {
            "needs_background": "light"
          },
          "output_type": "display_data"
        }
      ],
      "source": [
        "# Plotting the % Gender in dataset\n",
        "colors = ['#4D3425','#E4512B']\n",
        "ax = (df2['Gender'].value_counts()*100.0 /len(df2)).plot(kind='bar',stacked = True,rot = 0,color = colors)\n",
        "ax.yaxis.set_major_formatter(mtick.PercentFormatter())\n",
        "ax.set_ylabel('% Customers')\n",
        "ax.set_xlabel('Gender')\n",
        "ax.set_ylabel('% Customers')\n",
        "ax.set_title('Gender Distribution')\n",
        "\n",
        "# create a list to collect the plt.patches data\n",
        "totals = []\n",
        "\n",
        "# find the values and append to list\n",
        "for i in ax.patches:\n",
        "    totals.append(i.get_width())\n",
        "\n",
        "# set individual bar lables using above list\n",
        "total = sum(totals)\n",
        "\n",
        "for i in ax.patches:\n",
        "    # get_width pulls left or right; get_y pushes up or down\n",
        "    ax.text(i.get_x()+.15, i.get_height()-3.5, \\\n",
        "            str(round((i.get_height()/total), 1))+'%',\n",
        "            fontsize=12,\n",
        "            color='white',\n",
        "           weight = 'bold')"
      ]
    },
    {
      "cell_type": "code",
      "execution_count": 791,
      "metadata": {},
      "outputs": [
        {
          "data": {
            "text/plain": [
              "Text(0.5, 1.0, '# of Customers by their tenure')"
            ]
          },
          "execution_count": 791,
          "metadata": {},
          "output_type": "execute_result"
        },
        {
          "data": {
            "image/png": "[encoded data removed]",
            "text/plain": [
              "<Figure size 432x288 with 1 Axes>"
            ]
          },
          "metadata": {
            "needs_background": "light"
          },
          "output_type": "display_data"
        }
      ],
      "source": [
        "# Plotting the Customers by their tenure in dataset\n",
        "import seaborn as sns\n",
        "ax = sns.distplot(df2['Tenure'], hist=True, kde=False, \n",
        "             bins=int(180/5), color = 'darkblue', \n",
        "             hist_kws={'edgecolor':'black'},\n",
        "             kde_kws={'linewidth': 4})\n",
        "ax.set_ylabel('# of Customers')\n",
        "ax.set_xlabel('Tenure (years)')\n",
        "ax.set_title('# of Customers by their tenure')"
      ]
    },
    {
      "cell_type": "code",
      "execution_count": 792,
      "metadata": {},
      "outputs": [
        {
          "data": {
            "text/plain": [
              "Text(0.5, 1.0, '# of Customers by Number of products')"
            ]
          },
          "execution_count": 792,
          "metadata": {},
          "output_type": "execute_result"
        },
        {
          "data": {
            "image/png": "[encoded data removed]",
            "text/plain": [
              "<Figure size 432x288 with 1 Axes>"
            ]
          },
          "metadata": {
            "needs_background": "light"
          },
          "output_type": "display_data"
        }
      ],
      "source": [
        "# Plotting the Customers by Number of Products in dataset\n",
        "ax = df2['NumOfProducts'].value_counts().plot(kind = 'bar',rot = 0, width = 0.3)\n",
        "ax.set_ylabel('# of Customers')\n",
        "ax.set_title('# of Customers by Number of products')"
      ]
    },
    {
      "cell_type": "code",
      "execution_count": 793,
      "metadata": {},
      "outputs": [
        {
          "data": {
            "text/plain": [
              "<matplotlib.axes._subplots.AxesSubplot at 0x1dc4d350408>"
            ]
          },
          "execution_count": 793,
          "metadata": {},
          "output_type": "execute_result"
        },
        {
          "data": {
            "image/png": "[encoded data removed]",
            "text/plain": [
              "<Figure size 432x288 with 1 Axes>"
            ]
          },
          "metadata": {
            "needs_background": "light"
          },
          "output_type": "display_data"
        }
      ],
      "source": [
        "# Plotting the Tenure vs Churn\n",
        "sns.boxplot(x = df2.Exited, y = df2.Tenure)"
      ]
    },
    {
      "cell_type": "markdown",
      "metadata": {},
      "source": [
        "Churn vs Tenure: As we can see form the above plot, the customers who do not churn, they tend to stay for a lesser tenure with the Bank."
      ]
    },
    {
      "cell_type": "code",
      "execution_count": 794,
      "metadata": {},
      "outputs": [
        {
          "data": {
            "image/png": "[encoded data removed]",
            "text/plain": [
              "<Figure size 576x432 with 1 Axes>"
            ]
          },
          "metadata": {
            "needs_background": "light"
          },
          "output_type": "display_data"
        }
      ],
      "source": [
        "# Plotting the Churn rate in the dataset\n",
        "colors = ['#4D3425','#E4512B']\n",
        "ax = (df2['Exited'].value_counts()*100.0 /len(df2)).plot(kind='bar',stacked = True,rot = 0,color = colors,figsize = (8,6))\n",
        "ax.yaxis.set_major_formatter(mtick.PercentFormatter())\n",
        "ax.set_ylabel('% Customers',size = 14)\n",
        "ax.set_xlabel('Churn',size = 14)\n",
        "ax.set_title('Churn Rate', size = 14)\n",
        "\n",
        "# create a list to collect the plt.patches data\n",
        "totals = []\n",
        "\n",
        "# find the values and append to list\n",
        "for i in ax.patches:\n",
        "    totals.append(i.get_width())\n",
        "\n",
        "# set individual bar lables using above list\n",
        "total = sum(totals)\n",
        "\n",
        "for i in ax.patches:\n",
        "    # get_width pulls left or right; get_y pushes up or down\n",
        "    ax.text(i.get_x()+.15, i.get_height()-4.0, \\\n",
        "            str(round((i.get_height()/total), 1))+'%',\n",
        "            fontsize=12,\n",
        "            color='white',\n",
        "           weight = 'bold')"
      ]
    },
    {
      "cell_type": "code",
      "execution_count": 795,
      "metadata": {},
      "outputs": [
        {
          "data": {
            "text/plain": [
              "Text(0.5, 1.0, 'Distribution of Credit Score by churn')"
            ]
          },
          "execution_count": 795,
          "metadata": {},
          "output_type": "execute_result"
        },
        {
          "data": {
            "image/png": "[encoded data removed]",
            "text/plain": [
              "<Figure size 432x288 with 1 Axes>"
            ]
          },
          "metadata": {
            "needs_background": "light"
          },
          "output_type": "display_data"
        }
      ],
      "source": [
        "#Plotting the Distribution of Credit Score by churn\n",
        "ax = sns.kdeplot(df2.CreditScore[(df2[\"Exited\"] == 0) ],\n",
        "                color=\"Red\", shade = True)\n",
        "ax = sns.kdeplot(df2.CreditScore[(df2[\"Exited\"] == 1) ],\n",
        "                ax =ax, color=\"Blue\", shade= True)\n",
        "ax.legend([\"Not Churn\",\"Churn\"],loc='upper right')\n",
        "ax.set_ylabel('Density')\n",
        "ax.set_xlabel('Credit Score')\n",
        "ax.set_title('Distribution of Credit Score by churn')"
      ]
    },
    {
      "cell_type": "code",
      "execution_count": 796,
      "metadata": {},
      "outputs": [
        {
          "data": {
            "text/plain": [
              "Text(0.5, 1.0, 'Distribution of Balance by churn')"
            ]
          },
          "execution_count": 796,
          "metadata": {},
          "output_type": "execute_result"
        },
        {
          "data": {
            "image/png": "[encoded data removed]",
            "text/plain": [
              "<Figure size 432x288 with 1 Axes>"
            ]
          },
          "metadata": {
            "needs_background": "light"
          },
          "output_type": "display_data"
        }
      ],
      "source": [
        "#Plotting the Distribution of Credit Score by churn\n",
        "ax = sns.kdeplot(df2.Balance[(df2[\"Exited\"] == 0) ],\n",
        "                color=\"Red\", shade = True)\n",
        "ax = sns.kdeplot(df2.Balance[(df2[\"Exited\"] == 1) ],\n",
        "                ax =ax, color=\"Blue\", shade= True)\n",
        "ax.legend([\"Not Churn\",\"Churn\"],loc='upper right')\n",
        "ax.set_ylabel('Density')\n",
        "ax.set_xlabel('Balance')\n",
        "ax.set_title('Distribution of Balance by churn')"
      ]
    },
    {
      "cell_type": "code",
      "execution_count": 797,
      "metadata": {},
      "outputs": [
        {
          "data": {
            "text/plain": [
              "Text(0.5, 1.0, 'Distribution of Estimated Salary by churn')"
            ]
          },
          "execution_count": 797,
          "metadata": {},
          "output_type": "execute_result"
        },
        {
          "data": {
            "image/png": "[encoded data removed]",
            "text/plain": [
              "<Figure size 432x288 with 1 Axes>"
            ]
          },
          "metadata": {
            "needs_background": "light"
          },
          "output_type": "display_data"
        }
      ],
      "source": [
        "#Plotting the Distribution of Estimated Salary by churn\n",
        "ax = sns.kdeplot(df2.EstimatedSalary[(df2[\"Exited\"] == 0) ],\n",
        "                color=\"Red\", shade = True)\n",
        "ax = sns.kdeplot(df2.EstimatedSalary[(df2[\"Exited\"] == 1) ],\n",
        "                ax =ax, color=\"Blue\", shade= True)\n",
        "ax.legend([\"Not Churn\",\"Churn\"],loc='upper right')\n",
        "ax.set_ylabel('Density')\n",
        "ax.set_xlabel('Estimated Salary')\n",
        "ax.set_title('Distribution of Estimated Salary by churn')"
      ]
    },
    {
      "cell_type": "code",
      "execution_count": 798,
      "metadata": {},
      "outputs": [
        {
          "data": {
            "image/png": "[encoded data removed]",
            "text/plain": [
              "<Figure size 720x432 with 1 Axes>"
            ]
          },
          "metadata": {
            "needs_background": "light"
          },
          "output_type": "display_data"
        }
      ],
      "source": [
        "# Plotting Churn by NumOfProducts\n",
        "colors = ['#4D3425','#E4512B']\n",
        "prod_churn = df2.groupby(['NumOfProducts','Exited']).size().unstack()\n",
        "\n",
        "ax = (prod_churn.T*100.0 / prod_churn.T.sum()).T.plot(kind='bar',\n",
        "                                                                width = 0.3,\n",
        "                                                                stacked = True,\n",
        "                                                                rot = 0, \n",
        "                                                                figsize = (10,6),\n",
        "                                                                color = colors)\n",
        "ax.yaxis.set_major_formatter(mtick.PercentFormatter())\n",
        "ax.legend(loc='best',prop={'size':14},title = 'Churn')\n",
        "ax.set_ylabel('% Customers',size = 14)\n",
        "ax.set_title('Churn by NumOfProducts',size = 14)\n",
        "\n",
        "# Code to add the data labels on the stacked bar chart\n",
        "for p in ax.patches:\n",
        "    width, height = p.get_width(), p.get_height()\n",
        "    x, y = p.get_xy() \n",
        "    ax.annotate('{:.0f}%'.format(height), (p.get_x()+.25*width, p.get_y()+.4*height),\n",
        "                color = 'white',\n",
        "               weight = 'bold',\n",
        "               size = 14)"
      ]
    },
    {
      "cell_type": "markdown",
      "metadata": {},
      "source": [
        "Churn by Number of products :  Similar to what we saw in the correlation plot, the customers who have a more products have a very high churn rate."
      ]
    },
    {
      "cell_type": "code",
      "execution_count": 799,
      "metadata": {},
      "outputs": [
        {
          "data": {
            "image/png": "[encoded data removed]",
            "text/plain": [
              "<Figure size 720x432 with 1 Axes>"
            ]
          },
          "metadata": {
            "needs_background": "light"
          },
          "output_type": "display_data"
        }
      ],
      "source": [
        "# Plotting Churn by Geography\n",
        "colors = ['#4D3425','#E4512B']\n",
        "prod_churn = df2.groupby(['Geography','Exited']).size().unstack()\n",
        "\n",
        "ax = (prod_churn.T*100.0 / prod_churn.T.sum()).T.plot(kind='bar',\n",
        "                                                                width = 0.3,\n",
        "                                                                stacked = True,\n",
        "                                                                rot = 0, \n",
        "                                                                figsize = (10,6),\n",
        "                                                                color = colors)\n",
        "ax.yaxis.set_major_formatter(mtick.PercentFormatter())\n",
        "ax.legend(loc='best',prop={'size':14},title = 'Churn')\n",
        "ax.set_ylabel('% Customers',size = 14)\n",
        "ax.set_title('Churn by Geography',size = 14)\n",
        "\n",
        "for p in ax.patches:\n",
        "    width, height = p.get_width(), p.get_height()\n",
        "    x, y = p.get_xy() \n",
        "    ax.annotate('{:.0f}%'.format(height), (p.get_x()+.25*width, p.get_y()+.4*height),\n",
        "                color = 'white',\n",
        "               weight = 'bold',\n",
        "               size = 14)"
      ]
    },
    {
      "cell_type": "markdown",
      "metadata": {},
      "source": [
        "Loading data after adding additional features and implementing baseline model "
      ]
    },
    {
      "cell_type": "code",
      "execution_count": 800,
      "metadata": {},
      "outputs": [
        {
          "name": "stdout",
          "output_type": "stream",
          "text": [
            "[645 'Spain' 1 44 8 113755.78 2 1 0 149756.71 2 0]\n"
          ]
        }
      ],
      "source": [
        "#seperating input and output values after adding new parameters\n",
        "x=df2.iloc[:, 2:-1].values\n",
        "y=df2.iloc[:, -1].values\n",
        "\n",
        "#Changing input string parameters to integer\n",
        "LE=LabelEncoder()\n",
        "x[:, 2]=LE.fit_transform(x[:, 2])\n",
        "print(x[5])\n",
        "ct = ColumnTransformer(transformers=[('encoder', OneHotEncoder(), [1])], remainder='passthrough')\n",
        "x=np.array(ct.fit_transform(x))"
      ]
    },
    {
      "cell_type": "code",
      "execution_count": 801,
      "metadata": {},
      "outputs": [],
      "source": [
        "#Seperating the Train, Test and Validation data\n",
        "X_train, X_test, y_train, y_test = train_test_split(x, y, test_size = 0.3, random_state = 0)\n",
        "X_test, X_validation, y_test, y_validation = train_test_split(X_test, y_test, test_size = 0.33, random_state = 0)"
      ]
    },
    {
      "cell_type": "code",
      "execution_count": 802,
      "metadata": {},
      "outputs": [
        {
          "name": "stdout",
          "output_type": "stream",
          "text": [
            "[0.0 1.0 0.0 706 1 34 0 140641.26 2 1 1 77271.91 1 0]\n",
            "0\n"
          ]
        }
      ],
      "source": [
        "print(X_validation[3])\n",
        "print(y_validation[6])"
      ]
    },
    {
      "cell_type": "code",
      "execution_count": 803,
      "metadata": {
        "id": "Kr1toXzTQeXS"
      },
      "outputs": [],
      "source": [
        "#Standardized Scaling to fit the data in training the model\n",
        "sc = StandardScaler()\n",
        "X_train = sc.fit_transform(X_train)\n",
        "X_test = sc.transform(X_test)\n",
        "X_validation=sc.transform(X_validation)"
      ]
    },
    {
      "cell_type": "code",
      "execution_count": 804,
      "metadata": {},
      "outputs": [
        {
          "name": "stdout",
          "output_type": "stream",
          "text": [
            "[-1.01525927  1.75478035 -0.5731713   0.1385645   0.92295821  0.01725942\n",
            "  0.69700901 -0.23836603 -0.92971564  0.64198477 -1.03430227  1.22994458\n",
            "  0.74920699 -0.21815257]\n"
          ]
        }
      ],
      "source": [
        "print(X_validation[0])"
      ]
    },
    {
      "cell_type": "code",
      "execution_count": 805,
      "metadata": {},
      "outputs": [
        {
          "name": "stdout",
          "output_type": "stream",
          "text": [
            "[0.8099502487562189, 0.8253731343283582]\n"
          ]
        }
      ],
      "source": [
        "# Running logistic regression model\n",
        "model1 = LogisticRegression()\n",
        "result = model1.fit(X_train, y_train)\n",
        "prediction_test = model1.predict(X_test)\n",
        "# Print the prediction accuracy\n",
        "results.append(metrics.accuracy_score(y_test, prediction_test))\n",
        "print(results)"
      ]
    },
    {
      "cell_type": "markdown",
      "metadata": {},
      "source": [
        "We can see that as we added additional features the accuracy has increased in the baseline model"
      ]
    },
    {
      "cell_type": "code",
      "execution_count": 806,
      "metadata": {},
      "outputs": [
        {
          "name": "stdout",
          "output_type": "stream",
          "text": [
            "[ 0.98497008 -0.56987189 -0.5731713  -0.09792126  0.92295821 -0.55759842\n",
            " -1.03635146  1.13249447  0.81039385  0.64198477  0.96683535 -0.76862426\n",
            " -0.51208424 -0.21815257]\n"
          ]
        }
      ],
      "source": [
        "#Printing the modified input of the neural network\n",
        "print(X_train[0])"
      ]
    },
    {
      "cell_type": "markdown",
      "metadata": {},
      "source": [
        "##### Artificial neural network:\n",
        "It is a 5 layer network with Gelu activation function and Adam Optimizer and binary Crossentropy as loss function and with 0.1% dropout after every layer.\n",
        "It is trained with a Batch size of 16 and with 100 Epochs"
      ]
    },
    {
      "cell_type": "code",
      "execution_count": 807,
      "metadata": {},
      "outputs": [
        {
          "name": "stdout",
          "output_type": "stream",
          "text": [
            "Epoch 1/100\n",
            "438/438 [==============================] - 5s 3ms/step - loss: 0.8885 - accuracy: 0.7761\n",
            "Epoch 2/100\n",
            "438/438 [==============================] - 1s 3ms/step - loss: 0.5377 - accuracy: 0.7939\n",
            "Epoch 3/100\n",
            "438/438 [==============================] - 1s 3ms/step - loss: 0.4898 - accuracy: 0.7979\n",
            "Epoch 4/100\n",
            "438/438 [==============================] - 1s 3ms/step - loss: 0.4868 - accuracy: 0.8007\n",
            "Epoch 5/100\n",
            "438/438 [==============================] - 1s 3ms/step - loss: 0.4567 - accuracy: 0.8078\n",
            "Epoch 6/100\n",
            "438/438 [==============================] - 1s 3ms/step - loss: 0.4444 - accuracy: 0.8186\n",
            "Epoch 7/100\n",
            "438/438 [==============================] - 1s 3ms/step - loss: 0.4316 - accuracy: 0.8249\n",
            "Epoch 8/100\n",
            "438/438 [==============================] - 1s 3ms/step - loss: 0.4329 - accuracy: 0.8245\n",
            "Epoch 9/100\n",
            "438/438 [==============================] - 1s 3ms/step - loss: 0.4045 - accuracy: 0.8383\n",
            "Epoch 10/100\n",
            "438/438 [==============================] - 1s 3ms/step - loss: 0.4018 - accuracy: 0.8421\n",
            "Epoch 11/100\n",
            "438/438 [==============================] - 2s 4ms/step - loss: 0.4058 - accuracy: 0.8322\n",
            "Epoch 12/100\n",
            "438/438 [==============================] - 2s 3ms/step - loss: 0.4108 - accuracy: 0.8214\n",
            "Epoch 13/100\n",
            "438/438 [==============================] - 2s 3ms/step - loss: 0.4107 - accuracy: 0.8324\n",
            "Epoch 14/100\n",
            "438/438 [==============================] - 1s 3ms/step - loss: 0.3890 - accuracy: 0.8439\n",
            "Epoch 15/100\n",
            "438/438 [==============================] - 1s 3ms/step - loss: 0.3738 - accuracy: 0.8435\n",
            "Epoch 16/100\n",
            "438/438 [==============================] - 1s 3ms/step - loss: 0.3895 - accuracy: 0.8361\n",
            "Epoch 17/100\n",
            "438/438 [==============================] - 1s 3ms/step - loss: 0.3782 - accuracy: 0.8431\n",
            "Epoch 18/100\n",
            "438/438 [==============================] - 1s 3ms/step - loss: 0.3854 - accuracy: 0.8407\n",
            "Epoch 19/100\n",
            "438/438 [==============================] - 1s 3ms/step - loss: 0.3703 - accuracy: 0.8466\n",
            "Epoch 20/100\n",
            "438/438 [==============================] - 1s 3ms/step - loss: 0.3775 - accuracy: 0.8496\n",
            "Epoch 21/100\n",
            "438/438 [==============================] - 1s 3ms/step - loss: 0.3863 - accuracy: 0.8243\n",
            "Epoch 22/100\n",
            "438/438 [==============================] - 1s 3ms/step - loss: 0.3943 - accuracy: 0.8443\n",
            "Epoch 23/100\n",
            "438/438 [==============================] - 1s 3ms/step - loss: 0.3886 - accuracy: 0.8425\n",
            "Epoch 24/100\n",
            "438/438 [==============================] - 1s 3ms/step - loss: 0.3643 - accuracy: 0.8462\n",
            "Epoch 25/100\n",
            "438/438 [==============================] - 1s 3ms/step - loss: 0.3791 - accuracy: 0.8506\n",
            "Epoch 26/100\n",
            "438/438 [==============================] - 1s 3ms/step - loss: 0.3944 - accuracy: 0.8320\n",
            "Epoch 27/100\n",
            "438/438 [==============================] - 2s 4ms/step - loss: 0.3844 - accuracy: 0.8469\n",
            "Epoch 28/100\n",
            "438/438 [==============================] - 2s 3ms/step - loss: 0.3782 - accuracy: 0.8463\n",
            "Epoch 29/100\n",
            "438/438 [==============================] - 2s 3ms/step - loss: 0.3885 - accuracy: 0.8460\n",
            "Epoch 30/100\n",
            "438/438 [==============================] - 2s 4ms/step - loss: 0.3723 - accuracy: 0.8523\n",
            "Epoch 31/100\n",
            "438/438 [==============================] - 1s 3ms/step - loss: 0.3671 - accuracy: 0.8536\n",
            "Epoch 32/100\n",
            "438/438 [==============================] - 1s 3ms/step - loss: 0.3619 - accuracy: 0.8551\n",
            "Epoch 33/100\n",
            "438/438 [==============================] - 1s 3ms/step - loss: 0.3620 - accuracy: 0.8589\n",
            "Epoch 34/100\n",
            "438/438 [==============================] - 1s 3ms/step - loss: 0.3663 - accuracy: 0.8577\n",
            "Epoch 35/100\n",
            "438/438 [==============================] - 1s 3ms/step - loss: 0.3754 - accuracy: 0.8562\n",
            "Epoch 36/100\n",
            "438/438 [==============================] - 2s 4ms/step - loss: 0.3505 - accuracy: 0.8571\n",
            "Epoch 37/100\n",
            "438/438 [==============================] - 1s 3ms/step - loss: 0.3579 - accuracy: 0.8616\n",
            "Epoch 38/100\n",
            "438/438 [==============================] - 1s 3ms/step - loss: 0.3791 - accuracy: 0.8499\n",
            "Epoch 39/100\n",
            "438/438 [==============================] - 1s 3ms/step - loss: 0.3885 - accuracy: 0.8510\n",
            "Epoch 40/100\n",
            "438/438 [==============================] - 1s 3ms/step - loss: 0.3646 - accuracy: 0.8561\n",
            "Epoch 41/100\n",
            "438/438 [==============================] - 1s 3ms/step - loss: 0.3812 - accuracy: 0.8437\n",
            "Epoch 42/100\n",
            "438/438 [==============================] - 1s 3ms/step - loss: 0.3774 - accuracy: 0.8437\n",
            "Epoch 43/100\n",
            "438/438 [==============================] - 1s 3ms/step - loss: 0.3748 - accuracy: 0.8492\n",
            "Epoch 44/100\n",
            "438/438 [==============================] - 1s 3ms/step - loss: 0.3597 - accuracy: 0.8493\n",
            "Epoch 45/100\n",
            "438/438 [==============================] - 2s 4ms/step - loss: 0.3583 - accuracy: 0.8572\n",
            "Epoch 46/100\n",
            "438/438 [==============================] - 2s 3ms/step - loss: 0.3496 - accuracy: 0.8557\n",
            "Epoch 47/100\n",
            "438/438 [==============================] - 2s 4ms/step - loss: 0.3672 - accuracy: 0.8421\n",
            "Epoch 48/100\n",
            "438/438 [==============================] - 1s 3ms/step - loss: 0.3502 - accuracy: 0.8555\n",
            "Epoch 49/100\n",
            "438/438 [==============================] - 1s 3ms/step - loss: 0.3734 - accuracy: 0.8472\n",
            "Epoch 50/100\n",
            "438/438 [==============================] - 1s 3ms/step - loss: 0.3636 - accuracy: 0.8525\n",
            "Epoch 51/100\n",
            "438/438 [==============================] - 1s 3ms/step - loss: 0.3645 - accuracy: 0.8461\n",
            "Epoch 52/100\n",
            "438/438 [==============================] - 1s 3ms/step - loss: 0.3677 - accuracy: 0.8565\n",
            "Epoch 53/100\n",
            "438/438 [==============================] - 2s 4ms/step - loss: 0.3662 - accuracy: 0.8509\n",
            "Epoch 54/100\n",
            "438/438 [==============================] - 2s 4ms/step - loss: 0.3714 - accuracy: 0.8497\n",
            "Epoch 55/100\n",
            "438/438 [==============================] - 1s 3ms/step - loss: 0.3710 - accuracy: 0.8437\n",
            "Epoch 56/100\n",
            "438/438 [==============================] - 1s 3ms/step - loss: 0.3643 - accuracy: 0.8570\n",
            "Epoch 57/100\n",
            "438/438 [==============================] - 1s 3ms/step - loss: 0.3865 - accuracy: 0.8462\n",
            "Epoch 58/100\n",
            "438/438 [==============================] - 1s 3ms/step - loss: 0.3505 - accuracy: 0.8581\n",
            "Epoch 59/100\n",
            "438/438 [==============================] - 1s 3ms/step - loss: 0.3461 - accuracy: 0.8566\n",
            "Epoch 60/100\n",
            "438/438 [==============================] - 1s 3ms/step - loss: 0.3607 - accuracy: 0.8530\n",
            "Epoch 61/100\n",
            "438/438 [==============================] - 1s 3ms/step - loss: 0.3610 - accuracy: 0.8587\n",
            "Epoch 62/100\n",
            "438/438 [==============================] - 1s 3ms/step - loss: 0.3620 - accuracy: 0.8559\n",
            "Epoch 63/100\n",
            "438/438 [==============================] - 1s 3ms/step - loss: 0.3622 - accuracy: 0.8575\n",
            "Epoch 64/100\n",
            "438/438 [==============================] - 1s 3ms/step - loss: 0.3511 - accuracy: 0.8603\n",
            "Epoch 65/100\n",
            "438/438 [==============================] - 1s 3ms/step - loss: 0.3486 - accuracy: 0.8581\n",
            "Epoch 66/100\n",
            "438/438 [==============================] - 2s 3ms/step - loss: 0.3661 - accuracy: 0.8511\n",
            "Epoch 67/100\n",
            "438/438 [==============================] - 1s 3ms/step - loss: 0.3584 - accuracy: 0.8573\n",
            "Epoch 68/100\n",
            "438/438 [==============================] - 2s 3ms/step - loss: 0.3752 - accuracy: 0.8538\n",
            "Epoch 69/100\n",
            "438/438 [==============================] - 1s 3ms/step - loss: 0.3450 - accuracy: 0.8559\n",
            "Epoch 70/100\n",
            "438/438 [==============================] - 1s 3ms/step - loss: 0.3787 - accuracy: 0.8376\n",
            "Epoch 71/100\n",
            "438/438 [==============================] - 1s 3ms/step - loss: 0.3539 - accuracy: 0.8552\n",
            "Epoch 72/100\n",
            "438/438 [==============================] - 2s 3ms/step - loss: 0.3497 - accuracy: 0.8560\n",
            "Epoch 73/100\n",
            "438/438 [==============================] - 2s 3ms/step - loss: 0.3731 - accuracy: 0.8540\n",
            "Epoch 74/100\n",
            "438/438 [==============================] - 2s 4ms/step - loss: 0.3665 - accuracy: 0.8508\n",
            "Epoch 75/100\n",
            "438/438 [==============================] - 1s 3ms/step - loss: 0.3690 - accuracy: 0.8548\n",
            "Epoch 76/100\n",
            "438/438 [==============================] - 1s 3ms/step - loss: 0.3660 - accuracy: 0.8563\n",
            "Epoch 77/100\n",
            "438/438 [==============================] - 1s 3ms/step - loss: 0.3634 - accuracy: 0.8480\n",
            "Epoch 78/100\n",
            "438/438 [==============================] - 1s 3ms/step - loss: 0.3520 - accuracy: 0.8498\n",
            "Epoch 79/100\n",
            "438/438 [==============================] - 2s 3ms/step - loss: 0.3746 - accuracy: 0.8457\n",
            "Epoch 80/100\n",
            "438/438 [==============================] - 1s 3ms/step - loss: 0.3551 - accuracy: 0.8594\n",
            "Epoch 81/100\n",
            "438/438 [==============================] - 1s 3ms/step - loss: 0.3587 - accuracy: 0.8522\n",
            "Epoch 82/100\n",
            "438/438 [==============================] - 2s 3ms/step - loss: 0.3439 - accuracy: 0.8594\n",
            "Epoch 83/100\n",
            "438/438 [==============================] - 1s 3ms/step - loss: 0.3589 - accuracy: 0.8536\n",
            "Epoch 84/100\n",
            "438/438 [==============================] - 1s 3ms/step - loss: 0.3419 - accuracy: 0.8598\n",
            "Epoch 85/100\n",
            "438/438 [==============================] - 2s 3ms/step - loss: 0.3570 - accuracy: 0.8577\n",
            "Epoch 86/100\n",
            "438/438 [==============================] - 1s 3ms/step - loss: 0.3706 - accuracy: 0.8511\n",
            "Epoch 87/100\n",
            "438/438 [==============================] - 1s 3ms/step - loss: 0.3647 - accuracy: 0.8499\n",
            "Epoch 88/100\n",
            "438/438 [==============================] - 1s 3ms/step - loss: 0.3498 - accuracy: 0.8548\n",
            "Epoch 89/100\n",
            "438/438 [==============================] - 1s 3ms/step - loss: 0.3464 - accuracy: 0.8599\n",
            "Epoch 90/100\n",
            "438/438 [==============================] - 1s 3ms/step - loss: 0.3568 - accuracy: 0.8591\n",
            "Epoch 91/100\n",
            "438/438 [==============================] - 1s 3ms/step - loss: 0.3618 - accuracy: 0.8511\n",
            "Epoch 92/100\n",
            "438/438 [==============================] - 1s 3ms/step - loss: 0.3445 - accuracy: 0.8643\n",
            "Epoch 93/100\n",
            "438/438 [==============================] - 1s 3ms/step - loss: 0.3482 - accuracy: 0.8593\n",
            "Epoch 94/100\n",
            "438/438 [==============================] - 2s 4ms/step - loss: 0.3616 - accuracy: 0.8471\n",
            "Epoch 95/100\n",
            "438/438 [==============================] - 1s 3ms/step - loss: 0.3516 - accuracy: 0.8584\n",
            "Epoch 96/100\n",
            "438/438 [==============================] - 1s 3ms/step - loss: 0.3614 - accuracy: 0.8544\n",
            "Epoch 97/100\n",
            "438/438 [==============================] - 1s 3ms/step - loss: 0.3532 - accuracy: 0.8615\n",
            "Epoch 98/100\n",
            "438/438 [==============================] - 1s 3ms/step - loss: 0.3494 - accuracy: 0.8608\n",
            "Epoch 99/100\n",
            "438/438 [==============================] - 1s 3ms/step - loss: 0.3528 - accuracy: 0.8614\n",
            "Epoch 100/100\n",
            "438/438 [==============================] - 1s 3ms/step - loss: 0.3524 - accuracy: 0.8575\n"
          ]
        },
        {
          "data": {
            "text/plain": [
              "<tensorflow.python.keras.callbacks.History at 0x1dc4d4ec508>"
            ]
          },
          "execution_count": 807,
          "metadata": {},
          "output_type": "execute_result"
        }
      ],
      "source": [
        "# Artificial Neural Network model \n",
        "ann=tf.keras.models.Sequential()\n",
        "ann.add(tf.keras.layers.Dense(units=14,activation='gelu'))\n",
        "ann.add(tf.keras.layers.Dropout(0.1))\n",
        "ann.add(tf.keras.layers.Dense(units=16,activation='gelu'))\n",
        "ann.add(tf.keras.layers.Dropout(0.1))\n",
        "ann.add(tf.keras.layers.Dense(units=12,activation='gelu'))\n",
        "ann.add(tf.keras.layers.Dropout(0.1))\n",
        "ann.add(tf.keras.layers.Dense(units=6,activation='gelu'))\n",
        "ann.add(tf.keras.layers.Dropout(0.1))\n",
        "ann.add(tf.keras.layers.Dense(units=1,activation='gelu'))  \n",
        "\n",
        "# Training the ANN model\n",
        "ann.compile(optimizer='Adam',loss='binary_crossentropy',metrics=['accuracy'])\n",
        "ann.fit(X_train,y_train,batch_size=16,epochs=100)"
      ]
    },
    {
      "cell_type": "code",
      "execution_count": 818,
      "metadata": {},
      "outputs": [],
      "source": [
        "#Saving the Trained ANN model\n",
        "filename = 'data/Updated_model.h5'\n",
        "ann.save(filename)"
      ]
    },
    {
      "cell_type": "code",
      "execution_count": 825,
      "metadata": {
        "colab": {
          "base_uri": "https://localhost:8080/"
        },
        "id": "eFtT0jmDRTF5",
        "outputId": "9c9c6450-b8b2-42d0-bc83-cf19706a0eb1"
      },
      "outputs": [
        {
          "name": "stdout",
          "output_type": "stream",
          "text": [
            "              precision    recall  f1-score   support\n",
            "\n",
            "           0       0.87      0.98      0.92      1591\n",
            "           1       0.84      0.46      0.60       419\n",
            "\n",
            "    accuracy                           0.87      2010\n",
            "   macro avg       0.86      0.72      0.76      2010\n",
            "weighted avg       0.87      0.87      0.85      2010\n",
            "\n"
          ]
        }
      ],
      "source": [
        "#Showing the Classification Report of Trained ANN Model with test Data\n",
        "y_pred=ann.predict(X_test)\n",
        "y_pred=(y_pred>0.51) #Considering prediction accuracy greater then 51%\n",
        "results.append(metrics.accuracy_score(y_test, y_pred))\n",
        "print(classification_report(y_test, y_pred))"
      ]
    },
    {
      "cell_type": "code",
      "execution_count": 810,
      "metadata": {},
      "outputs": [
        {
          "name": "stdout",
          "output_type": "stream",
          "text": [
            "              precision    recall  f1-score   support\n",
            "\n",
            "           0       0.87      0.97      0.92       788\n",
            "           1       0.79      0.42      0.55       202\n",
            "\n",
            "    accuracy                           0.86       990\n",
            "   macro avg       0.83      0.70      0.73       990\n",
            "weighted avg       0.85      0.86      0.84       990\n",
            "\n"
          ]
        }
      ],
      "source": [
        "#Showing the Classification Report of Trained ANN Model with Validation Data\n",
        "y_val_pred=ann.predict(X_validation)\n",
        "y_val_pred=(y_val_pred>0.51) #Considering prediction accuracy greater then 51%\n",
        "print(classification_report(y_validation, y_val_pred))"
      ]
    },
    {
      "cell_type": "code",
      "execution_count": 811,
      "metadata": {},
      "outputs": [],
      "source": [
        "#Implementing to evaluate with individual inputs\n",
        "def evaluate_result(a):\n",
        "    #Encoding Male and Female parameters\n",
        "    a[2]= 0 if a[2]=='Female' else 1\n",
        "    # OneHotEncoding geogrophy\n",
        "    if (a[1]=='France'):\n",
        "        a.append(1.0) \n",
        "        a.append(0.0)\n",
        "        a.append(0.0)\n",
        "    elif(a[1]=='Spain'):\n",
        "        a.append(0.0) \n",
        "        a.append(0.0)\n",
        "        a.append(1.0)\n",
        "    else:\n",
        "        a.append(0.0) \n",
        "        a.append(1.0)\n",
        "        a.append(0.0)\n",
        "    # Removing unwanted attributes\n",
        "    a.remove(a[1])\n",
        "    # Fitting to the trained model\n",
        "    a=collections.deque(a)\n",
        "    a.rotate(3)\n",
        "    a=list(a)\n",
        "    a.append(0 if a[7] < 40000 else (1 if a[7] < 80000 else 2))\n",
        "    a.append(1 if a[5] > 60 else 0)\n",
        "    a=np.array([a])\n",
        "    # Predicting and returning the output as Churn or Not Churn\n",
        "    y_out=(ann.predict(a) > 0.5)\n",
        "    if(y_out==1):\n",
        "        y_out='Churn'\n",
        "    else:\n",
        "        y_out='Not Churn'\n",
        "    return y_out\n",
        "   "
      ]
    },
    {
      "cell_type": "code",
      "execution_count": 812,
      "metadata": {},
      "outputs": [
        {
          "name": "stdout",
          "output_type": "stream",
          "text": [
            "Churn\n"
          ]
        }
      ],
      "source": [
        "# Printing the Implemented to evaluate function\n",
        "print(evaluate_result([500 ,'Germany' ,'Male' ,43 ,7 ,140641.26 ,2 ,1 ,1 ,77271.91]))"
      ]
    },
    {
      "cell_type": "markdown",
      "metadata": {},
      "source": [
        "Result Visualisation"
      ]
    },
    {
      "cell_type": "code",
      "execution_count": 813,
      "metadata": {},
      "outputs": [
        {
          "data": {
            "text/plain": [
              "(0.79, 0.9136567164179105)"
            ]
          },
          "execution_count": 813,
          "metadata": {},
          "output_type": "execute_result"
        },
        {
          "data": {
            "image/png": "[encoded data removed]",
            "text/plain": [
              "<Figure size 432x288 with 1 Axes>"
            ]
          },
          "metadata": {
            "needs_background": "light"
          },
          "output_type": "display_data"
        }
      ],
      "source": [
        "# Visualization of Results of Baseline model and ANN\n",
        "plt.bar(['Baseline','Baseline adding new dataset','ANN Model'],results, width = 0.3)\n",
        "plt.ylabel('Accuracy')\n",
        "plt.ylim(0.79, None)"
      ]
    },
    {
      "cell_type": "code",
      "execution_count": 814,
      "metadata": {},
      "outputs": [],
      "source": [
        "# Implementing heatmaps\n",
        "def model_visualisation(classifier, classifier_name,X_test,y_test,y_pred):\n",
        "    '''Assess the performance on the test set and plot the confusion matrix.'''\n",
        "    y_pred = classifier.predict(X_test)\n",
        "    cm = confusion_matrix(y_test, y_pred, normalize='true')\n",
        "\n",
        "    ax = sns.heatmap(cm,\n",
        "                annot=True,\n",
        "                annot_kws={'fontsize': 24},\n",
        "                cmap='Blues' )\n",
        "\n",
        "    ax.set_title(classifier_name)\n",
        "\n",
        "    ax.set_xlabel('Predicted Label')\n",
        "    ax.set_xticks([0.5, 1.5])\n",
        "    ax.set_xticklabels(['Retained', 'Churned'])\n",
        "\n",
        "    ax.set_ylabel('True Label')\n",
        "    ax.set_yticks([0.2, 1.4])\n",
        "    ax.set_yticklabels(['Retained', 'Churned'])"
      ]
    },
    {
      "cell_type": "code",
      "execution_count": 815,
      "metadata": {},
      "outputs": [
        {
          "data": {
            "image/png": "[encoded data removed]",
            "text/plain": [
              "<Figure size 432x288 with 2 Axes>"
            ]
          },
          "metadata": {
            "needs_background": "light"
          },
          "output_type": "display_data"
        }
      ],
      "source": [
        "model_visualisation(model, 'Baseline model',X_test1,y_test1,y_pred1)\n",
        "plt.tight_layout()"
      ]
    },
    {
      "cell_type": "code",
      "execution_count": 837,
      "metadata": {},
      "outputs": [
        {
          "data": {
            "image/png": "[encoded data removed]",
            "text/plain": [
              "<Figure size 432x288 with 2 Axes>"
            ]
          },
          "metadata": {
            "needs_background": "light"
          },
          "output_type": "display_data"
        }
      ],
      "source": [
        "model_visualisation(model1, 'ANN',X_test,y_test,prediction_test)\n",
        "plt.tight_layout()"
      ]
    },
    {
      "cell_type": "markdown",
      "metadata": {},
      "source": [
        "#### Conclusions\n",
        "The foundation of our final bank report should contain two main points:\n",
        "\n",
        "EDA can help us figure out which characteristics contribute to customer churn. Feature importance analysis can also be used to assess the importance of each feature in predicting churn. Our data suggest that the most critical element is age (older consumers are more prone to churn), followed by the quantity of items (having more products improves a customer's likelihood of leaving). The bank could use our findings to alter and improve its offerings in order to boost satisfaction among clients who are more likely to churn.\n",
        "\n",
        "We can Build Deep Learning models with a recall of roughly 87 percent, which means they can successfully detect over 90% of churn-prone consumers. Adding additional attributes or records could help us improve our forecasting accuracy. As a result, investing in data collection may benefit the bank."
      ]
    }
  ],
  "metadata": {
    "colab": {
      "collapsed_sections": [],
      "name": "bank Churn pred.ipynb",
      "provenance": []
    },
    "kernelspec": {
      "display_name": "Python 3",
      "name": "python3"
    },
    "language_info": {
      "codemirror_mode": {
        "name": "ipython",
        "version": 3
      },
      "file_extension": ".py",
      "mimetype": "text/x-python",
      "name": "python",
      "nbconvert_exporter": "python",
      "pygments_lexer": "ipython3",
      "version": "3.7.6"
    }
  },
  "nbformat": 4,
  "nbformat_minor": 0
}
